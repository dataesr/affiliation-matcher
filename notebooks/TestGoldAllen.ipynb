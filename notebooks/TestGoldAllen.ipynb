{
 "cells": [
  {
   "cell_type": "code",
   "execution_count": 1,
   "id": "88758101",
   "metadata": {},
   "outputs": [],
   "source": [
    "import pandas as pd"
   ]
  },
  {
   "cell_type": "code",
   "execution_count": 2,
   "id": "c28defcb",
   "metadata": {},
   "outputs": [],
   "source": [
    "df = pd.read_csv('https://github.com/allenai/S2AFF/raw/main/data/gold_affiliation_annotations.csv')"
   ]
  },
  {
   "cell_type": "code",
   "execution_count": 3,
   "id": "8188aaf3",
   "metadata": {},
   "outputs": [],
   "source": [
    "data = []\n",
    "for i, row in df.iterrows():\n",
    "    elt = {}\n",
    "    elt['label'] = row.original_affiliation\n",
    "    rors = []\n",
    "    for r in eval(row.labels):\n",
    "        if 'ror.org' in r:\n",
    "            rors.append(r.replace('https://ror.org/', ''))\n",
    "    elt['ror'] = rors\n",
    "    if rors:\n",
    "        data.append(elt)"
   ]
  },
  {
   "cell_type": "code",
   "execution_count": 4,
   "id": "f91f35a3",
   "metadata": {},
   "outputs": [],
   "source": [
    "import requests, json\n",
    "\n",
    "def match(conditions):\n",
    "    return requests.post(\"http://localhost:5004/match\", json=conditions).json()\n",
    "\n",
    "\n",
    "def compute_precision_recall(data):\n",
    "\n",
    "    index_prefix = 'matcher'\n",
    "    local = True\n",
    "    match_type = 'ror'\n",
    "\n",
    "    nb_TP, nb_FP, nb_FN = 0, 0, 0\n",
    "    false_positive, false_negative = [], []\n",
    "    for ix, d in enumerate(data):\n",
    "        if ix%100==0:\n",
    "            print(ix, end=',')\n",
    "        if d.get(match_type):\n",
    "            res = match({'query': d['label'], 'year':'2020', 'type': match_type, 'index_prefix': index_prefix})\n",
    "            for x in res['results']:\n",
    "                if x in d[match_type]:\n",
    "                    nb_TP += 1\n",
    "                else:\n",
    "                    nb_FP += 1\n",
    "                    false_positive.append(d)\n",
    "            for x in d[match_type]:\n",
    "                if x not in res['results']:\n",
    "                    nb_FN += 1\n",
    "                    false_negative.append(d)\n",
    "\n",
    "    precision = nb_TP / (nb_TP + nb_FP)\n",
    "    recall = nb_TP / (nb_TP + nb_FN)\n",
    "    res = {'precision' : precision, 'recall' : recall}\n",
    "    return {'res': res, 'false_positive': false_positive, 'false_negative': false_negative} \n"
   ]
  },
  {
   "cell_type": "code",
   "execution_count": 5,
   "id": "9a270d85",
   "metadata": {},
   "outputs": [
    {
     "name": "stdout",
     "output_type": "stream",
     "text": [
      "0,100,200,300,400,500,600,700,800,900,1000,1100,1200,1300,1400,1500,1600,1700,1800,1900,2000,2100,"
     ]
    }
   ],
   "source": [
    "res = compute_precision_recall(data)"
   ]
  },
  {
   "cell_type": "code",
   "execution_count": 6,
   "id": "18c33f3a",
   "metadata": {},
   "outputs": [
    {
     "data": {
      "text/plain": [
       "{'precision': 0.9248737373737373, 'recall': 0.624467178175618}"
      ]
     },
     "execution_count": 6,
     "metadata": {},
     "output_type": "execute_result"
    }
   ],
   "source": [
    "res['res']"
   ]
  },
  {
   "cell_type": "code",
   "execution_count": 9,
   "id": "20797c35",
   "metadata": {},
   "outputs": [
    {
     "data": {
      "text/plain": [
       "{'label': 'The Laboratory of Photochemistry, Center for Molecular Science, Institute of Chemistry, Chinese Academy of Sciences, Beijing 100080, PR China',\n",
       " 'ror': ['034t30j35']}"
      ]
     },
     "execution_count": 9,
     "metadata": {},
     "output_type": "execute_result"
    }
   ],
   "source": [
    "res['false_positive'][0]"
   ]
  },
  {
   "cell_type": "code",
   "execution_count": null,
   "id": "3afc2d2a",
   "metadata": {},
   "outputs": [],
   "source": [
    "# The affiliation-matcher also gives 048y1rc66 which seems ok..."
   ]
  }
 ],
 "metadata": {
  "kernelspec": {
   "display_name": "Python 3",
   "language": "python",
   "name": "python3"
  },
  "language_info": {
   "codemirror_mode": {
    "name": "ipython",
    "version": 3
   },
   "file_extension": ".py",
   "mimetype": "text/x-python",
   "name": "python",
   "nbconvert_exporter": "python",
   "pygments_lexer": "ipython3",
   "version": "3.9.1"
  }
 },
 "nbformat": 4,
 "nbformat_minor": 5
}
