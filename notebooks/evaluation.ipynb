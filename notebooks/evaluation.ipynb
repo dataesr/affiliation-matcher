{
 "cells": [
  {
   "cell_type": "code",
   "execution_count": 1,
   "id": "8c3db26e",
   "metadata": {},
   "outputs": [],
   "source": [
    "import requests, json\n",
    "\n",
    "def match(conditions):\n",
    "    return requests.post(\"http://localhost:5004/match_api\", json=conditions).json()\n",
    "\n",
    "def get_annotated_data():\n",
    "    url = 'https://storage.gra.cloud.ovh.net/v1/AUTH_32c5d10cb0fe4519b957064a111717e3/models/match_pubmed_affiliations_with_countries_v3.json'\n",
    "    data = requests.get(url).json()\n",
    "    return data\n",
    "\n",
    "def compute_precision_recall(match_type, index_prefix=''):\n",
    "\n",
    "    data = get_annotated_data()\n",
    "\n",
    "    nb_TP, nb_FP, nb_FN = 0, 0, 0\n",
    "    false_positive, false_negative = [], []\n",
    "    for ix, d in enumerate(data):\n",
    "        if ix%100==0:\n",
    "            print(ix, end=',')\n",
    "        if d.get(match_type):\n",
    "            res = match({'query': d['label'], 'year':'2020', 'type': match_type, 'index_prefix': index_prefix})\n",
    "            for x in res['results']:\n",
    "                if x in d[match_type]:\n",
    "                    nb_TP += 1\n",
    "                else:\n",
    "                    nb_FP += 1\n",
    "                    false_positive.append(d)\n",
    "            for x in d[match_type]:\n",
    "                if x not in res['results']:\n",
    "                    nb_FN += 1\n",
    "                    false_negative.append(d)\n",
    "\n",
    "    precision = nb_TP / (nb_TP + nb_FP)\n",
    "    recall = nb_TP / (nb_TP + nb_FN)\n",
    "    res = {'precision' : precision, 'recall' : recall}\n",
    "    return {'res': res, 'false_positive': false_positive, 'false_negative': false_negative} \n"
   ]
  },
  {
   "cell_type": "code",
   "execution_count": 2,
   "id": "c072f9c7",
   "metadata": {},
   "outputs": [
    {
     "name": "stdout",
     "output_type": "stream",
     "text": [
      "0,100,200,300,400,500,600,700,800,900,1000,1100,1200,1300,1400,1500,1600,1700,1800,1900,2000,2100,2200,2300,2400,2500,2600,2700,2800,2900,3000,3100,3200,3300,3400,3500,3600,3700,3800,3900,4000,4100,4200,4300,4400,4500,4600,4700,"
     ]
    }
   ],
   "source": [
    "metrics_grid = compute_precision_recall(match_type = 'grid', index_prefix='matcher')"
   ]
  },
  {
   "cell_type": "code",
   "execution_count": 3,
   "id": "76991aba",
   "metadata": {},
   "outputs": [
    {
     "data": {
      "text/plain": [
       "{'precision': 0.7443415637860082, 'recall': 0.5708086785009862}"
      ]
     },
     "execution_count": 3,
     "metadata": {},
     "output_type": "execute_result"
    }
   ],
   "source": [
    "metrics_grid['res']"
   ]
  },
  {
   "cell_type": "code",
   "execution_count": 4,
   "id": "639fa537",
   "metadata": {},
   "outputs": [
    {
     "data": {
      "text/plain": [
       "497"
      ]
     },
     "execution_count": 4,
     "metadata": {},
     "output_type": "execute_result"
    }
   ],
   "source": [
    "len(metrics_grid['false_positive'])"
   ]
  }
 ],
 "metadata": {
  "kernelspec": {
   "display_name": "Python 3",
   "language": "python",
   "name": "python3"
  },
  "language_info": {
   "codemirror_mode": {
    "name": "ipython",
    "version": 3
   },
   "file_extension": ".py",
   "mimetype": "text/x-python",
   "name": "python",
   "nbconvert_exporter": "python",
   "pygments_lexer": "ipython3",
   "version": "3.9.1"
  }
 },
 "nbformat": 4,
 "nbformat_minor": 5
}
