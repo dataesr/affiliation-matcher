{
 "cells": [
  {
   "cell_type": "code",
   "execution_count": null,
   "id": "8c3db26e",
   "metadata": {},
   "outputs": [],
   "source": [
    "import json\n",
    "import requests\n",
    "\n",
    "def match(conditions):\n",
    "    return requests.post('http://localhost:5004/match', json=conditions).json()\n",
    "\n",
    "def get_annotated_data():\n",
    "    url = 'https://storage.gra.cloud.ovh.net/v1/AUTH_32c5d10cb0fe4519b957064a111717e3/models/match_pubmed_affiliations_with_countries_v3.json'\n",
    "    data = requests.get(url).json()\n",
    "    json.dump(data, open('match_pubmed_affiliations_with_countries_v3.json', 'w'), indent=2, ensure_ascii=False)\n",
    "    return data\n",
    "\n",
    "def compute_precision_recall(match_type, index_prefix=''):\n",
    "    data = get_annotated_data()\n",
    "    nb_TP, nb_FP, nb_FN = 0, 0, 0\n",
    "    false_positive, false_negative = [], []\n",
    "    for ix, d in enumerate(data):\n",
    "        if ix%100==0:\n",
    "            print(ix, end=',')\n",
    "        if d.get(match_type):\n",
    "            res = match({'query': d['label'], 'year': '2020', 'type': match_type, 'index_prefix': index_prefix})\n",
    "            for x in res['results']:\n",
    "                if x in d[match_type]:\n",
    "                    nb_TP += 1\n",
    "                else:\n",
    "                    nb_FP += 1\n",
    "                    false_positive.append(d)\n",
    "            for x in d[match_type]:\n",
    "                if x not in res['results']:\n",
    "                    nb_FN += 1\n",
    "                    false_negative.append(d)\n",
    "    precision = nb_TP / (nb_TP + nb_FP)\n",
    "    recall = nb_TP / (nb_TP + nb_FN)\n",
    "    res = {'precision' : precision, 'recall' : recall}\n",
    "    return {'res': res, 'false_positive': false_positive, 'false_negative': false_negative}"
   ]
  },
  {
   "cell_type": "code",
   "execution_count": null,
   "id": "3c8b8d6d",
   "metadata": {},
   "outputs": [],
   "source": [
    "metrics_country = compute_precision_recall(match_type='country', index_prefix='matcher')\n",
    "metrics_country['res']"
   ]
  },
  {
   "cell_type": "code",
   "execution_count": null,
   "id": "cdb7f157",
   "metadata": {},
   "outputs": [],
   "source": [
    "metrics_country['false_positive']"
   ]
  },
  {
   "cell_type": "code",
   "execution_count": null,
   "id": "c072f9c7",
   "metadata": {},
   "outputs": [],
   "source": [
    "metrics_grid = compute_precision_recall(match_type='grid', index_prefix='matcher')\n",
    "metrics_grid['res']"
   ]
  },
  {
   "cell_type": "code",
   "execution_count": null,
   "id": "9b50d172",
   "metadata": {},
   "outputs": [],
   "source": [
    "metrics_grid['false_positive']"
   ]
  },
  {
   "cell_type": "code",
   "execution_count": null,
   "id": "65234eb3",
   "metadata": {},
   "outputs": [],
   "source": [
    "metrics_rnsr = compute_precision_recall(match_type='rnsr', index_prefix='matcher')\n",
    "metrics_rnsr['res']"
   ]
  },
  {
   "cell_type": "code",
   "execution_count": null,
   "id": "98610313",
   "metadata": {},
   "outputs": [],
   "source": [
    "metrics_rnsr['false_positive']"
   ]
  },
  {
   "cell_type": "code",
   "execution_count": null,
   "id": "7f17e742",
   "metadata": {},
   "outputs": [],
   "source": [
    "# No ROR data into the reference file\n",
    "# metrics_ror = compute_precision_recall(match_type='ror', index_prefix='matcher')\n",
    "# metrics_ror['res']"
   ]
  },
  {
   "cell_type": "code",
   "execution_count": null,
   "id": "69181b35",
   "metadata": {},
   "outputs": [],
   "source": [
    "# metrics_ror['false_positive']"
   ]
  }
 ],
 "metadata": {
  "kernelspec": {
   "display_name": "Python 3",
   "language": "python",
   "name": "python3"
  },
  "language_info": {
   "codemirror_mode": {
    "name": "ipython",
    "version": 3
   },
   "file_extension": ".py",
   "mimetype": "text/x-python",
   "name": "python",
   "nbconvert_exporter": "python",
   "pygments_lexer": "ipython3",
   "version": "3.6.15"
  }
 },
 "nbformat": 4,
 "nbformat_minor": 5
}
