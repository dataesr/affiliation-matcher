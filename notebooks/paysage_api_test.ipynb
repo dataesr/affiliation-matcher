{
 "cells": [
  {
   "cell_type": "code",
   "execution_count": 1,
   "metadata": {},
   "outputs": [],
   "source": [
    "import requests\n",
    "import pandas as pd"
   ]
  },
  {
   "cell_type": "code",
   "execution_count": 21,
   "metadata": {},
   "outputs": [],
   "source": [
    "url = \"https://paysage-api.staging.dataesr.ovh/relations?limit=10000&filters[relationTag]=structure-categorie&filters[relatedObjectId]=mCpLW&filters[relatedObjectId]=Eg7tX&filters[relatedObjectId]=93BR1&filters[relatedObjectId]=2ZdzP&filters[relatedObjectId]=MTFHZ&filters[relatedObjectId]=UfEnK&filters[relatedObjectId]=Sv5bb&filters[relatedObjectId]=mNJ1Z&filters[relatedObjectId]=WCat8&filters[relatedObjectId]=fQ6GL&filters[relatedObjectId]=WkSgR&filters[relatedObjectId]=YNqFb&filters[relatedObjectId]=iyn79&filters[relatedObjectId]=NsMkU\"\n",
    "headers = {\"X-API-KEY\": \"xkeypsg-72b39GvylkDPoEe6AwUz\"}\n",
    "\n",
    "response = requests.get(url, headers=headers)"
   ]
  }
 ],
 "metadata": {
  "kernelspec": {
   "display_name": "Python 3",
   "language": "python",
   "name": "python3"
  },
  "language_info": {
   "codemirror_mode": {
    "name": "ipython",
    "version": 3
   },
   "file_extension": ".py",
   "mimetype": "text/x-python",
   "name": "python",
   "nbconvert_exporter": "python",
   "pygments_lexer": "ipython3",
   "version": "3.11.5"
  },
  "orig_nbformat": 4
 },
 "nbformat": 4,
 "nbformat_minor": 2
}
