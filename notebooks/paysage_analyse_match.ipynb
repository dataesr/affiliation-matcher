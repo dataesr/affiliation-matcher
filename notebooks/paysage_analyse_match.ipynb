{
 "cells": [
  {
   "cell_type": "code",
   "execution_count": 18,
   "metadata": {},
   "outputs": [],
   "source": [
    "import os\n",
    "import requests\n",
    "import pandas as pd\n",
    "import matplotlib.pyplot as plt\n",
    "from enum import Enum\n",
    "from dotenv import load_dotenv\n",
    "\n",
    "load_dotenv()\n",
    "\n",
    "ODS_API_KEY = os.getenv(\"ODS_API_KEY\")\n",
    "ODS_PAYSAGE_KEY = os.getenv(\"ODS_PAYSAGE_KEY\")\n",
    "\n",
    "AFFILIATION_MATCHER_API = f\"{os.getenv('AFFILIATION_MATCHER_URL')}/match\"\n",
    "AFFILIATION_MATCHER_API_LOCAL = \"http://localhost:5004/match\"\n",
    "AFFILIATION_MATCHER_LIST_API = \"http://localhost:5004/match_list\"\n",
    "AFFILIATION_MATCHER_LIST_TASK_API = \"http://localhost:5004/tasks\"\n",
    "\n",
    "COL_AFFILIATION_IS_MATCH = \"affiliation_is_match\"\n",
    "COL_AFFILIATION_STR = \"affiliation_string\"\n",
    "\n",
    "MATCH_TYPE = \"paysage\"\n",
    "\n",
    "FILE_PATH = \"../paysage_match_list_paysage_acronym.json\""
   ]
  },
  {
   "cell_type": "code",
   "execution_count": 19,
   "metadata": {},
   "outputs": [],
   "source": [
    "# api/match\n",
    "def affiliation_get_matches(affiliation: str, year=None, local=False):\n",
    "  if not isinstance(affiliation, str):\n",
    "    return None\n",
    "  \n",
    "  body = {\"type\": MATCH_TYPE, \"query\": affiliation}\n",
    "  if year:\n",
    "    body[\"year\"] = year\n",
    "  \n",
    "  url = AFFILIATION_MATCHER_API_LOCAL if local else AFFILIATION_MATCHER_API\n",
    "  \n",
    "\n",
    "  res=requests.post(url=url, json=body)\n",
    "\n",
    "  if res.status_code == 202:\n",
    "    return res.json()\n",
    "  \n",
    "  raise Exception(\"ERROR_{res.status_code}\")\n",
    "\n",
    "# indice find\n",
    "def elastic_percolate(indice, query):\n",
    "  url = \"http://localhost:9200\"\n",
    "  body = { \"query\": {\"percolate\": {\"field\": \"query\", \"document\": { \"content\": query}}}}\n",
    "  res = requests.post(f\"{url}/{indice}/_search\", json=body)\n",
    "  return res.json()"
   ]
  },
  {
   "cell_type": "code",
   "execution_count": 20,
   "metadata": {},
   "outputs": [
    {
     "data": {
      "text/html": [
       "<div>\n",
       "<style scoped>\n",
       "    .dataframe tbody tr th:only-of-type {\n",
       "        vertical-align: middle;\n",
       "    }\n",
       "\n",
       "    .dataframe tbody tr th {\n",
       "        vertical-align: top;\n",
       "    }\n",
       "\n",
       "    .dataframe thead th {\n",
       "        text-align: right;\n",
       "    }\n",
       "</style>\n",
       "<table border=\"1\" class=\"dataframe\">\n",
       "  <thead>\n",
       "    <tr style=\"text-align: right;\">\n",
       "      <th></th>\n",
       "      <th>identifiant_rnsr</th>\n",
       "      <th>identifiant_interne</th>\n",
       "      <th>etat</th>\n",
       "      <th>date_fermeture</th>\n",
       "      <th>sigle</th>\n",
       "      <th>uo_lib</th>\n",
       "      <th>uo_lib_officiel</th>\n",
       "      <th>adresse_uai</th>\n",
       "      <th>lieu_dit_uai</th>\n",
       "      <th>boite_postale_uai</th>\n",
       "      <th>code_postal_uai</th>\n",
       "      <th>localite_acheminement_uai</th>\n",
       "      <th>pays_etranger_acheminement</th>\n",
       "      <th>affiliation_string</th>\n",
       "      <th>affiliation_string_off</th>\n",
       "      <th>affiliation_match</th>\n",
       "      <th>affiliation_match_off</th>\n",
       "      <th>affiliation_is_match</th>\n",
       "      <th>affiliation_is_match_off</th>\n",
       "    </tr>\n",
       "  </thead>\n",
       "  <tbody>\n",
       "    <tr>\n",
       "      <th>0</th>\n",
       "      <td>None</td>\n",
       "      <td>7CYWd</td>\n",
       "      <td>False</td>\n",
       "      <td>2019.0</td>\n",
       "      <td>UNS</td>\n",
       "      <td>Université Nice - Sophia-Antipolis</td>\n",
       "      <td>Université de Nice</td>\n",
       "      <td>28 avenue de Valrose</td>\n",
       "      <td>GRAND CHATEAU</td>\n",
       "      <td>None</td>\n",
       "      <td>06108</td>\n",
       "      <td>Nice CEDEX 2</td>\n",
       "      <td>France</td>\n",
       "      <td>UNS - Université Nice - Sophia-Antipolis, 28 a...</td>\n",
       "      <td>UNS - Université de Nice, 28 avenue de Valrose...</td>\n",
       "      <td>[7CYWd]</td>\n",
       "      <td>[7CYWd]</td>\n",
       "      <td>MATCH.ID_MATCH</td>\n",
       "      <td>MATCH.ID_MATCH</td>\n",
       "    </tr>\n",
       "    <tr>\n",
       "      <th>1</th>\n",
       "      <td>None</td>\n",
       "      <td>542Id</td>\n",
       "      <td>True</td>\n",
       "      <td>NaN</td>\n",
       "      <td>UT1</td>\n",
       "      <td>Université Toulouse Capitole</td>\n",
       "      <td>Université Toulouse-I</td>\n",
       "      <td>2 rue du Doyen-Gabriel-Marty</td>\n",
       "      <td>None</td>\n",
       "      <td>None</td>\n",
       "      <td>31042</td>\n",
       "      <td>Toulouse CEDEX</td>\n",
       "      <td>France</td>\n",
       "      <td>UT1 - Université Toulouse Capitole, 2 rue du D...</td>\n",
       "      <td>UT1 - Université Toulouse-I, 2 rue du Doyen-Ga...</td>\n",
       "      <td>[542Id]</td>\n",
       "      <td>[542Id]</td>\n",
       "      <td>MATCH.ID_MATCH</td>\n",
       "      <td>MATCH.ID_MATCH</td>\n",
       "    </tr>\n",
       "  </tbody>\n",
       "</table>\n",
       "</div>"
      ],
      "text/plain": [
       "  identifiant_rnsr identifiant_interne   etat  date_fermeture sigle  \\\n",
       "0             None               7CYWd  False          2019.0   UNS   \n",
       "1             None               542Id   True             NaN   UT1   \n",
       "\n",
       "                               uo_lib        uo_lib_officiel  \\\n",
       "0  Université Nice - Sophia-Antipolis     Université de Nice   \n",
       "1        Université Toulouse Capitole  Université Toulouse-I   \n",
       "\n",
       "                    adresse_uai   lieu_dit_uai boite_postale_uai  \\\n",
       "0          28 avenue de Valrose  GRAND CHATEAU              None   \n",
       "1  2 rue du Doyen-Gabriel-Marty           None              None   \n",
       "\n",
       "  code_postal_uai localite_acheminement_uai pays_etranger_acheminement  \\\n",
       "0           06108              Nice CEDEX 2                     France   \n",
       "1           31042            Toulouse CEDEX                     France   \n",
       "\n",
       "                                  affiliation_string  \\\n",
       "0  UNS - Université Nice - Sophia-Antipolis, 28 a...   \n",
       "1  UT1 - Université Toulouse Capitole, 2 rue du D...   \n",
       "\n",
       "                              affiliation_string_off affiliation_match  \\\n",
       "0  UNS - Université de Nice, 28 avenue de Valrose...           [7CYWd]   \n",
       "1  UT1 - Université Toulouse-I, 2 rue du Doyen-Ga...           [542Id]   \n",
       "\n",
       "  affiliation_match_off affiliation_is_match affiliation_is_match_off  \n",
       "0               [7CYWd]       MATCH.ID_MATCH           MATCH.ID_MATCH  \n",
       "1               [542Id]       MATCH.ID_MATCH           MATCH.ID_MATCH  "
      ]
     },
     "execution_count": 20,
     "metadata": {},
     "output_type": "execute_result"
    }
   ],
   "source": [
    "df = pd.read_json(FILE_PATH)\n",
    "df.head(2)"
   ]
  },
  {
   "cell_type": "code",
   "execution_count": 21,
   "metadata": {},
   "outputs": [
    {
     "data": {
      "image/png": "[encoded data removed]",
      "text/plain": [
       "<Figure size 640x480 with 1 Axes>"
      ]
     },
     "metadata": {},
     "output_type": "display_data"
    }
   ],
   "source": [
    "df[COL_AFFILIATION_IS_MATCH].value_counts().plot.pie(title=f\"Paysage affiliations matches ({MATCH_TYPE})\", autopct=\"%.02f%%\")\n",
    "plt.show()"
   ]
  },
  {
   "cell_type": "markdown",
   "metadata": {},
   "source": [
    "DIFF_MATCH"
   ]
  },
  {
   "cell_type": "code",
   "execution_count": 22,
   "metadata": {},
   "outputs": [],
   "source": [
    "df_diff_match = df[df[COL_AFFILIATION_IS_MATCH] == \"MATCH.ID_DIFF_MATCH\"]"
   ]
  },
  {
   "cell_type": "code",
   "execution_count": 23,
   "metadata": {},
   "outputs": [
    {
     "data": {
      "text/plain": [
       "identifiant_rnsr                                                           None\n",
       "identifiant_interne                                                       JH1iJ\n",
       "etat                                                                       True\n",
       "date_fermeture                                                              NaN\n",
       "sigle                                                                      None\n",
       "uo_lib                        IMT Atlantique Bretagne Pays de la Loire - Cam...\n",
       "uo_lib_officiel               IMT Atlantique Bretagne Pays de la Loire - Cam...\n",
       "adresse_uai                                             Technopôle Brest-Iroise\n",
       "lieu_dit_uai                                                               None\n",
       "boite_postale_uai                                                      CS 83818\n",
       "code_postal_uai                                                           29238\n",
       "localite_acheminement_uai                                        Brest CEDEX 03\n",
       "pays_etranger_acheminement                                               France\n",
       "affiliation_string            IMT Atlantique Bretagne Pays de la Loire - Cam...\n",
       "affiliation_string_off                                                     None\n",
       "affiliation_match                                                       [krqUz]\n",
       "affiliation_match_off                                                        []\n",
       "affiliation_is_match                                        MATCH.ID_DIFF_MATCH\n",
       "affiliation_is_match_off                                                   None\n",
       "Name: 289, dtype: object"
      ]
     },
     "metadata": {},
     "output_type": "display_data"
    },
    {
     "name": "stdout",
     "output_type": "stream",
     "text": [
      "IMT Atlantique Bretagne Pays de la Loire - Campus de Brest, Technopôle Brest-Iroise, CS 83818, 29238, Brest CEDEX 03, France\n"
     ]
    },
    {
     "data": {
      "text/plain": [
       "{'Error': 'Matcher type paysage unknown'}"
      ]
     },
     "execution_count": 23,
     "metadata": {},
     "output_type": "execute_result"
    }
   ],
   "source": [
    "test = df_diff_match.iloc[1]\n",
    "display(test)\n",
    "print(test[COL_AFFILIATION_STR])\n",
    "affiliation_get_matches(test[COL_AFFILIATION_STR])"
   ]
  },
  {
   "cell_type": "code",
   "execution_count": 24,
   "metadata": {},
   "outputs": [
    {
     "data": {
      "text/plain": [
       "{'error': {'root_cause': [{'type': 'index_not_found_exception',\n",
       "    'reason': 'no such index [matcher-20240409131913_paysage_name]',\n",
       "    'resource.type': 'index_or_alias',\n",
       "    'resource.id': 'matcher-20240409131913_paysage_name',\n",
       "    'index_uuid': '_na_',\n",
       "    'index': 'matcher-20240409131913_paysage_name'}],\n",
       "  'type': 'index_not_found_exception',\n",
       "  'reason': 'no such index [matcher-20240409131913_paysage_name]',\n",
       "  'resource.type': 'index_or_alias',\n",
       "  'resource.id': 'matcher-20240409131913_paysage_name',\n",
       "  'index_uuid': '_na_',\n",
       "  'index': 'matcher-20240409131913_paysage_name'},\n",
       " 'status': 404}"
      ]
     },
     "execution_count": 24,
     "metadata": {},
     "output_type": "execute_result"
    }
   ],
   "source": [
    "indice = \"matcher-20240409131913_paysage_name\"\n",
    "query = \"California State University\"\n",
    "elastic_percolate(indice, query)"
   ]
  }
 ],
 "metadata": {
  "kernelspec": {
   "display_name": "Python 3",
   "language": "python",
   "name": "python3"
  },
  "language_info": {
   "codemirror_mode": {
    "name": "ipython",
    "version": 3
   },
   "file_extension": ".py",
   "mimetype": "text/x-python",
   "name": "python",
   "nbconvert_exporter": "python",
   "pygments_lexer": "ipython3",
   "version": "3.11.5"
  },
  "orig_nbformat": 4
 },
 "nbformat": 4,
 "nbformat_minor": 2
}
