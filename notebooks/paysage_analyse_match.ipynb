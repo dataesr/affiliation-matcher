{
 "cells": [
  {
   "cell_type": "code",
   "execution_count": 48,
   "metadata": {},
   "outputs": [],
   "source": [
    "import os\n",
    "import requests\n",
    "import pandas as pd\n",
    "import matplotlib.pyplot as plt\n",
    "from enum import Enum\n",
    "from dotenv import load_dotenv\n",
    "\n",
    "load_dotenv()\n",
    "\n",
    "ODS_API_KEY = os.getenv(\"ODS_API_KEY\")\n",
    "ODS_PAYSAGE_KEY = os.getenv(\"ODS_PAYSAGE_KEY\")\n",
    "\n",
    "AFFILIATION_MATCHER_API = f\"{os.getenv('AFFILIATION_MATCHER_URL')}/match\"\n",
    "AFFILIATION_MATCHER_API_LOCAL = \"http://localhost:5004/match\"\n",
    "AFFILIATION_MATCHER_LIST_API = \"http://localhost:5004/match_list\"\n",
    "AFFILIATION_MATCHER_LIST_TASK_API = \"http://localhost:5004/tasks\"\n",
    "\n",
    "COL_AFFILIATION_IS_MATCH = \"affiliation_is_match\"\n",
    "COL_AFFILIATION_STR = \"affiliation_string\"\n",
    "\n",
    "MATCH_TYPE = \"paysage\"\n",
    "\n",
    "FILE_PATH = \"../_data/paysage_match_list_paysage.json\""
   ]
  },
  {
   "cell_type": "code",
   "execution_count": 49,
   "metadata": {},
   "outputs": [],
   "source": [
    "# api/match\n",
    "def affiliation_get_matches(affiliation: str, year=None, local=False):\n",
    "  if not isinstance(affiliation, str):\n",
    "    return None\n",
    "  \n",
    "  body = {\"type\": MATCH_TYPE, \"query\": affiliation}\n",
    "  if year:\n",
    "    body[\"year\"] = year\n",
    "  \n",
    "  url = AFFILIATION_MATCHER_API_LOCAL if local else AFFILIATION_MATCHER_API\n",
    "  \n",
    "\n",
    "  res=requests.post(url=url, json=body)\n",
    "\n",
    "  if res.status_code == 202:\n",
    "    return res.json()\n",
    "  \n",
    "  raise Exception(\"ERROR_{res.status_code}\")\n",
    "\n",
    "# indice find\n",
    "def elastic_percolate(indice, query):\n",
    "  url = \"http://localhost:9200\"\n",
    "  body = { \"query\": {\"percolate\": {\"field\": \"query\", \"document\": { \"content\": query}}}}\n",
    "  res = requests.post(f\"{url}/{indice}/_search\", json=body)\n",
    "  return res.json()"
   ]
  },
  {
   "cell_type": "code",
   "execution_count": 50,
   "metadata": {},
   "outputs": [
    {
     "data": {
      "text/html": [
       "<div>\n",
       "<style scoped>\n",
       "    .dataframe tbody tr th:only-of-type {\n",
       "        vertical-align: middle;\n",
       "    }\n",
       "\n",
       "    .dataframe tbody tr th {\n",
       "        vertical-align: top;\n",
       "    }\n",
       "\n",
       "    .dataframe thead th {\n",
       "        text-align: right;\n",
       "    }\n",
       "</style>\n",
       "<table border=\"1\" class=\"dataframe\">\n",
       "  <thead>\n",
       "    <tr style=\"text-align: right;\">\n",
       "      <th></th>\n",
       "      <th>identifiant_rnsr</th>\n",
       "      <th>identifiant_interne</th>\n",
       "      <th>etat</th>\n",
       "      <th>date_fermeture</th>\n",
       "      <th>sigle</th>\n",
       "      <th>uo_lib</th>\n",
       "      <th>uo_lib_officiel</th>\n",
       "      <th>adresse_uai</th>\n",
       "      <th>lieu_dit_uai</th>\n",
       "      <th>boite_postale_uai</th>\n",
       "      <th>code_postal_uai</th>\n",
       "      <th>localite_acheminement_uai</th>\n",
       "      <th>pays_etranger_acheminement</th>\n",
       "      <th>affiliation_string</th>\n",
       "      <th>affiliation_string_off</th>\n",
       "      <th>affiliation_match</th>\n",
       "      <th>affiliation_match_off</th>\n",
       "      <th>affiliation_is_match</th>\n",
       "      <th>affiliation_is_match_off</th>\n",
       "    </tr>\n",
       "  </thead>\n",
       "  <tbody>\n",
       "    <tr>\n",
       "      <th>0</th>\n",
       "      <td>None</td>\n",
       "      <td>7CYWd</td>\n",
       "      <td>False</td>\n",
       "      <td>2019.0</td>\n",
       "      <td>UNS</td>\n",
       "      <td>Université Nice - Sophia-Antipolis</td>\n",
       "      <td>Université de Nice</td>\n",
       "      <td>28 avenue de Valrose</td>\n",
       "      <td>GRAND CHATEAU</td>\n",
       "      <td>None</td>\n",
       "      <td>06108</td>\n",
       "      <td>Nice CEDEX 2</td>\n",
       "      <td>France</td>\n",
       "      <td>Université Nice - Sophia-Antipolis, 28 avenue ...</td>\n",
       "      <td>Université de Nice, 28 avenue de Valrose, GRAN...</td>\n",
       "      <td>[7CYWd]</td>\n",
       "      <td>[7CYWd]</td>\n",
       "      <td>MATCH.ID_MATCH</td>\n",
       "      <td>MATCH.ID_MATCH</td>\n",
       "    </tr>\n",
       "    <tr>\n",
       "      <th>1</th>\n",
       "      <td>None</td>\n",
       "      <td>542Id</td>\n",
       "      <td>True</td>\n",
       "      <td>NaN</td>\n",
       "      <td>UT1</td>\n",
       "      <td>Université Toulouse Capitole</td>\n",
       "      <td>Université Toulouse-I</td>\n",
       "      <td>2 rue du Doyen-Gabriel-Marty</td>\n",
       "      <td>None</td>\n",
       "      <td>None</td>\n",
       "      <td>31042</td>\n",
       "      <td>Toulouse CEDEX</td>\n",
       "      <td>France</td>\n",
       "      <td>Université Toulouse Capitole, 2 rue du Doyen-G...</td>\n",
       "      <td>Université Toulouse-I, 2 rue du Doyen-Gabriel-...</td>\n",
       "      <td>[gap5Q, 542Id]</td>\n",
       "      <td>[542Id]</td>\n",
       "      <td>MATCH.ID_MATCH</td>\n",
       "      <td>MATCH.ID_MATCH</td>\n",
       "    </tr>\n",
       "  </tbody>\n",
       "</table>\n",
       "</div>"
      ],
      "text/plain": [
       "  identifiant_rnsr identifiant_interne   etat  date_fermeture sigle  \\\n",
       "0             None               7CYWd  False          2019.0   UNS   \n",
       "1             None               542Id   True             NaN   UT1   \n",
       "\n",
       "                               uo_lib        uo_lib_officiel  \\\n",
       "0  Université Nice - Sophia-Antipolis     Université de Nice   \n",
       "1        Université Toulouse Capitole  Université Toulouse-I   \n",
       "\n",
       "                    adresse_uai   lieu_dit_uai boite_postale_uai  \\\n",
       "0          28 avenue de Valrose  GRAND CHATEAU              None   \n",
       "1  2 rue du Doyen-Gabriel-Marty           None              None   \n",
       "\n",
       "  code_postal_uai localite_acheminement_uai pays_etranger_acheminement  \\\n",
       "0           06108              Nice CEDEX 2                     France   \n",
       "1           31042            Toulouse CEDEX                     France   \n",
       "\n",
       "                                  affiliation_string  \\\n",
       "0  Université Nice - Sophia-Antipolis, 28 avenue ...   \n",
       "1  Université Toulouse Capitole, 2 rue du Doyen-G...   \n",
       "\n",
       "                              affiliation_string_off affiliation_match  \\\n",
       "0  Université de Nice, 28 avenue de Valrose, GRAN...           [7CYWd]   \n",
       "1  Université Toulouse-I, 2 rue du Doyen-Gabriel-...    [gap5Q, 542Id]   \n",
       "\n",
       "  affiliation_match_off affiliation_is_match affiliation_is_match_off  \n",
       "0               [7CYWd]       MATCH.ID_MATCH           MATCH.ID_MATCH  \n",
       "1               [542Id]       MATCH.ID_MATCH           MATCH.ID_MATCH  "
      ]
     },
     "execution_count": 50,
     "metadata": {},
     "output_type": "execute_result"
    }
   ],
   "source": [
    "df = pd.read_json(FILE_PATH)\n",
    "df.head(2)"
   ]
  },
  {
   "cell_type": "code",
   "execution_count": 51,
   "metadata": {},
   "outputs": [
    {
     "data": {
      "image/png": "[encoded data removed]",
      "text/plain": [
       "<Figure size 640x480 with 1 Axes>"
      ]
     },
     "metadata": {},
     "output_type": "display_data"
    }
   ],
   "source": [
    "df[COL_AFFILIATION_IS_MATCH].value_counts().plot.pie(title=f\"Paysage affiliations matches ({MATCH_TYPE})\", autopct=\"%.02f%%\")\n",
    "plt.show()"
   ]
  },
  {
   "cell_type": "markdown",
   "metadata": {},
   "source": [
    "DIFF_MATCH"
   ]
  },
  {
   "cell_type": "code",
   "execution_count": 57,
   "metadata": {},
   "outputs": [
    {
     "data": {
      "text/plain": [
       "64"
      ]
     },
     "execution_count": 57,
     "metadata": {},
     "output_type": "execute_result"
    }
   ],
   "source": [
    "df_diff_match = df[df[COL_AFFILIATION_IS_MATCH] == \"MATCH.ID_DIFF_MATCH\"]\n",
    "len(df_diff_match)"
   ]
  },
  {
   "cell_type": "code",
   "execution_count": 56,
   "metadata": {},
   "outputs": [
    {
     "data": {
      "text/plain": [
       "identifiant_rnsr                                                           None\n",
       "identifiant_interne                                                        None\n",
       "etat                                                                      False\n",
       "date_fermeture                                                              NaN\n",
       "sigle                                                                      None\n",
       "uo_lib                                             CROUS de l'académie de Paris\n",
       "uo_lib_officiel                                    CROUS de l'académie de Paris\n",
       "adresse_uai                                          39 avenue Georges Bernanos\n",
       "lieu_dit_uai                                                               None\n",
       "boite_postale_uai                                                          None\n",
       "code_postal_uai                                                           75005\n",
       "localite_acheminement_uai                                                 Paris\n",
       "pays_etranger_acheminement                                               France\n",
       "affiliation_string            CROUS de l'académie de Paris, 39 avenue George...\n",
       "affiliation_string_off                                                     None\n",
       "affiliation_match                                                            []\n",
       "affiliation_match_off                                                        []\n",
       "affiliation_is_match                                       MATCH.NO_ID_NO_MATCH\n",
       "affiliation_is_match_off                                                   None\n",
       "Name: 328, dtype: object"
      ]
     },
     "metadata": {},
     "output_type": "display_data"
    },
    {
     "name": "stdout",
     "output_type": "stream",
     "text": [
      "CROUS de l'académie de Paris, 39 avenue Georges Bernanos, 75005, Paris, France\n"
     ]
    },
    {
     "ename": "ConnectionError",
     "evalue": "HTTPConnectionPool(host='localhost', port=5004): Max retries exceeded with url: /match (Caused by NewConnectionError('<urllib3.connection.HTTPConnection object at 0x0000022BB0182110>: Failed to establish a new connection: [WinError 10061] No connection could be made because the target machine actively refused it'))",
     "output_type": "error",
     "traceback": [
      "\u001b[1;31m---------------------------------------------------------------------------\u001b[0m",
      "\u001b[1;31mConnectionRefusedError\u001b[0m                    Traceback (most recent call last)",
      "File \u001b[1;32mc:\\Users\\vbarbier\\AppData\\Local\\Programs\\Python\\Python311\\Lib\\site-packages\\urllib3\\connection.py:174\u001b[0m, in \u001b[0;36mHTTPConnection._new_conn\u001b[1;34m(self)\u001b[0m\n\u001b[0;32m    173\u001b[0m \u001b[39mtry\u001b[39;00m:\n\u001b[1;32m--> 174\u001b[0m     conn \u001b[39m=\u001b[39m connection\u001b[39m.\u001b[39;49mcreate_connection(\n\u001b[0;32m    175\u001b[0m         (\u001b[39mself\u001b[39;49m\u001b[39m.\u001b[39;49m_dns_host, \u001b[39mself\u001b[39;49m\u001b[39m.\u001b[39;49mport), \u001b[39mself\u001b[39;49m\u001b[39m.\u001b[39;49mtimeout, \u001b[39m*\u001b[39;49m\u001b[39m*\u001b[39;49mextra_kw\n\u001b[0;32m    176\u001b[0m     )\n\u001b[0;32m    178\u001b[0m \u001b[39mexcept\u001b[39;00m SocketTimeout:\n",
      "File \u001b[1;32mc:\\Users\\vbarbier\\AppData\\Local\\Programs\\Python\\Python311\\Lib\\site-packages\\urllib3\\util\\connection.py:95\u001b[0m, in \u001b[0;36mcreate_connection\u001b[1;34m(address, timeout, source_address, socket_options)\u001b[0m\n\u001b[0;32m     94\u001b[0m \u001b[39mif\u001b[39;00m err \u001b[39mis\u001b[39;00m \u001b[39mnot\u001b[39;00m \u001b[39mNone\u001b[39;00m:\n\u001b[1;32m---> 95\u001b[0m     \u001b[39mraise\u001b[39;00m err\n\u001b[0;32m     97\u001b[0m \u001b[39mraise\u001b[39;00m socket\u001b[39m.\u001b[39merror(\u001b[39m\"\u001b[39m\u001b[39mgetaddrinfo returns an empty list\u001b[39m\u001b[39m\"\u001b[39m)\n",
      "File \u001b[1;32mc:\\Users\\vbarbier\\AppData\\Local\\Programs\\Python\\Python311\\Lib\\site-packages\\urllib3\\util\\connection.py:85\u001b[0m, in \u001b[0;36mcreate_connection\u001b[1;34m(address, timeout, source_address, socket_options)\u001b[0m\n\u001b[0;32m     84\u001b[0m     sock\u001b[39m.\u001b[39mbind(source_address)\n\u001b[1;32m---> 85\u001b[0m sock\u001b[39m.\u001b[39mconnect(sa)\n\u001b[0;32m     86\u001b[0m \u001b[39mreturn\u001b[39;00m sock\n",
      "\u001b[1;31mConnectionRefusedError\u001b[0m: [WinError 10061] No connection could be made because the target machine actively refused it",
      "\nDuring handling of the above exception, another exception occurred:\n",
      "\u001b[1;31mNewConnectionError\u001b[0m                        Traceback (most recent call last)",
      "File \u001b[1;32mc:\\Users\\vbarbier\\AppData\\Local\\Programs\\Python\\Python311\\Lib\\site-packages\\urllib3\\connectionpool.py:714\u001b[0m, in \u001b[0;36mHTTPConnectionPool.urlopen\u001b[1;34m(self, method, url, body, headers, retries, redirect, assert_same_host, timeout, pool_timeout, release_conn, chunked, body_pos, **response_kw)\u001b[0m\n\u001b[0;32m    713\u001b[0m \u001b[39m# Make the request on the httplib connection object.\u001b[39;00m\n\u001b[1;32m--> 714\u001b[0m httplib_response \u001b[39m=\u001b[39m \u001b[39mself\u001b[39;49m\u001b[39m.\u001b[39;49m_make_request(\n\u001b[0;32m    715\u001b[0m     conn,\n\u001b[0;32m    716\u001b[0m     method,\n\u001b[0;32m    717\u001b[0m     url,\n\u001b[0;32m    718\u001b[0m     timeout\u001b[39m=\u001b[39;49mtimeout_obj,\n\u001b[0;32m    719\u001b[0m     body\u001b[39m=\u001b[39;49mbody,\n\u001b[0;32m    720\u001b[0m     headers\u001b[39m=\u001b[39;49mheaders,\n\u001b[0;32m    721\u001b[0m     chunked\u001b[39m=\u001b[39;49mchunked,\n\u001b[0;32m    722\u001b[0m )\n\u001b[0;32m    724\u001b[0m \u001b[39m# If we're going to release the connection in ``finally:``, then\u001b[39;00m\n\u001b[0;32m    725\u001b[0m \u001b[39m# the response doesn't need to know about the connection. Otherwise\u001b[39;00m\n\u001b[0;32m    726\u001b[0m \u001b[39m# it will also try to release it and we'll have a double-release\u001b[39;00m\n\u001b[0;32m    727\u001b[0m \u001b[39m# mess.\u001b[39;00m\n",
      "File \u001b[1;32mc:\\Users\\vbarbier\\AppData\\Local\\Programs\\Python\\Python311\\Lib\\site-packages\\urllib3\\connectionpool.py:415\u001b[0m, in \u001b[0;36mHTTPConnectionPool._make_request\u001b[1;34m(self, conn, method, url, timeout, chunked, **httplib_request_kw)\u001b[0m\n\u001b[0;32m    414\u001b[0m     \u001b[39melse\u001b[39;00m:\n\u001b[1;32m--> 415\u001b[0m         conn\u001b[39m.\u001b[39;49mrequest(method, url, \u001b[39m*\u001b[39;49m\u001b[39m*\u001b[39;49mhttplib_request_kw)\n\u001b[0;32m    417\u001b[0m \u001b[39m# We are swallowing BrokenPipeError (errno.EPIPE) since the server is\u001b[39;00m\n\u001b[0;32m    418\u001b[0m \u001b[39m# legitimately able to close the connection after sending a valid response.\u001b[39;00m\n\u001b[0;32m    419\u001b[0m \u001b[39m# With this behaviour, the received response is still readable.\u001b[39;00m\n",
      "File \u001b[1;32mc:\\Users\\vbarbier\\AppData\\Local\\Programs\\Python\\Python311\\Lib\\site-packages\\urllib3\\connection.py:244\u001b[0m, in \u001b[0;36mHTTPConnection.request\u001b[1;34m(self, method, url, body, headers)\u001b[0m\n\u001b[0;32m    243\u001b[0m     headers[\u001b[39m\"\u001b[39m\u001b[39mUser-Agent\u001b[39m\u001b[39m\"\u001b[39m] \u001b[39m=\u001b[39m _get_default_user_agent()\n\u001b[1;32m--> 244\u001b[0m \u001b[39msuper\u001b[39;49m(HTTPConnection, \u001b[39mself\u001b[39;49m)\u001b[39m.\u001b[39;49mrequest(method, url, body\u001b[39m=\u001b[39;49mbody, headers\u001b[39m=\u001b[39;49mheaders)\n",
      "File \u001b[1;32mc:\\Users\\vbarbier\\AppData\\Local\\Programs\\Python\\Python311\\Lib\\http\\client.py:1286\u001b[0m, in \u001b[0;36mHTTPConnection.request\u001b[1;34m(self, method, url, body, headers, encode_chunked)\u001b[0m\n\u001b[0;32m   1285\u001b[0m \u001b[39m\u001b[39m\u001b[39m\"\"\"Send a complete request to the server.\"\"\"\u001b[39;00m\n\u001b[1;32m-> 1286\u001b[0m \u001b[39mself\u001b[39;49m\u001b[39m.\u001b[39;49m_send_request(method, url, body, headers, encode_chunked)\n",
      "File \u001b[1;32mc:\\Users\\vbarbier\\AppData\\Local\\Programs\\Python\\Python311\\Lib\\http\\client.py:1332\u001b[0m, in \u001b[0;36mHTTPConnection._send_request\u001b[1;34m(self, method, url, body, headers, encode_chunked)\u001b[0m\n\u001b[0;32m   1331\u001b[0m     body \u001b[39m=\u001b[39m _encode(body, \u001b[39m'\u001b[39m\u001b[39mbody\u001b[39m\u001b[39m'\u001b[39m)\n\u001b[1;32m-> 1332\u001b[0m \u001b[39mself\u001b[39;49m\u001b[39m.\u001b[39;49mendheaders(body, encode_chunked\u001b[39m=\u001b[39;49mencode_chunked)\n",
      "File \u001b[1;32mc:\\Users\\vbarbier\\AppData\\Local\\Programs\\Python\\Python311\\Lib\\http\\client.py:1281\u001b[0m, in \u001b[0;36mHTTPConnection.endheaders\u001b[1;34m(self, message_body, encode_chunked)\u001b[0m\n\u001b[0;32m   1280\u001b[0m     \u001b[39mraise\u001b[39;00m CannotSendHeader()\n\u001b[1;32m-> 1281\u001b[0m \u001b[39mself\u001b[39;49m\u001b[39m.\u001b[39;49m_send_output(message_body, encode_chunked\u001b[39m=\u001b[39;49mencode_chunked)\n",
      "File \u001b[1;32mc:\\Users\\vbarbier\\AppData\\Local\\Programs\\Python\\Python311\\Lib\\http\\client.py:1041\u001b[0m, in \u001b[0;36mHTTPConnection._send_output\u001b[1;34m(self, message_body, encode_chunked)\u001b[0m\n\u001b[0;32m   1040\u001b[0m \u001b[39mdel\u001b[39;00m \u001b[39mself\u001b[39m\u001b[39m.\u001b[39m_buffer[:]\n\u001b[1;32m-> 1041\u001b[0m \u001b[39mself\u001b[39;49m\u001b[39m.\u001b[39;49msend(msg)\n\u001b[0;32m   1043\u001b[0m \u001b[39mif\u001b[39;00m message_body \u001b[39mis\u001b[39;00m \u001b[39mnot\u001b[39;00m \u001b[39mNone\u001b[39;00m:\n\u001b[0;32m   1044\u001b[0m \n\u001b[0;32m   1045\u001b[0m     \u001b[39m# create a consistent interface to message_body\u001b[39;00m\n",
      "File \u001b[1;32mc:\\Users\\vbarbier\\AppData\\Local\\Programs\\Python\\Python311\\Lib\\http\\client.py:979\u001b[0m, in \u001b[0;36mHTTPConnection.send\u001b[1;34m(self, data)\u001b[0m\n\u001b[0;32m    978\u001b[0m \u001b[39mif\u001b[39;00m \u001b[39mself\u001b[39m\u001b[39m.\u001b[39mauto_open:\n\u001b[1;32m--> 979\u001b[0m     \u001b[39mself\u001b[39;49m\u001b[39m.\u001b[39;49mconnect()\n\u001b[0;32m    980\u001b[0m \u001b[39melse\u001b[39;00m:\n",
      "File \u001b[1;32mc:\\Users\\vbarbier\\AppData\\Local\\Programs\\Python\\Python311\\Lib\\site-packages\\urllib3\\connection.py:205\u001b[0m, in \u001b[0;36mHTTPConnection.connect\u001b[1;34m(self)\u001b[0m\n\u001b[0;32m    204\u001b[0m \u001b[39mdef\u001b[39;00m \u001b[39mconnect\u001b[39m(\u001b[39mself\u001b[39m):\n\u001b[1;32m--> 205\u001b[0m     conn \u001b[39m=\u001b[39m \u001b[39mself\u001b[39;49m\u001b[39m.\u001b[39;49m_new_conn()\n\u001b[0;32m    206\u001b[0m     \u001b[39mself\u001b[39m\u001b[39m.\u001b[39m_prepare_conn(conn)\n",
      "File \u001b[1;32mc:\\Users\\vbarbier\\AppData\\Local\\Programs\\Python\\Python311\\Lib\\site-packages\\urllib3\\connection.py:186\u001b[0m, in \u001b[0;36mHTTPConnection._new_conn\u001b[1;34m(self)\u001b[0m\n\u001b[0;32m    185\u001b[0m \u001b[39mexcept\u001b[39;00m SocketError \u001b[39mas\u001b[39;00m e:\n\u001b[1;32m--> 186\u001b[0m     \u001b[39mraise\u001b[39;00m NewConnectionError(\n\u001b[0;32m    187\u001b[0m         \u001b[39mself\u001b[39m, \u001b[39m\"\u001b[39m\u001b[39mFailed to establish a new connection: \u001b[39m\u001b[39m%s\u001b[39;00m\u001b[39m\"\u001b[39m \u001b[39m%\u001b[39m e\n\u001b[0;32m    188\u001b[0m     )\n\u001b[0;32m    190\u001b[0m \u001b[39mreturn\u001b[39;00m conn\n",
      "\u001b[1;31mNewConnectionError\u001b[0m: <urllib3.connection.HTTPConnection object at 0x0000022BB0182110>: Failed to establish a new connection: [WinError 10061] No connection could be made because the target machine actively refused it",
      "\nDuring handling of the above exception, another exception occurred:\n",
      "\u001b[1;31mMaxRetryError\u001b[0m                             Traceback (most recent call last)",
      "File \u001b[1;32mc:\\Users\\vbarbier\\AppData\\Local\\Programs\\Python\\Python311\\Lib\\site-packages\\requests\\adapters.py:486\u001b[0m, in \u001b[0;36mHTTPAdapter.send\u001b[1;34m(self, request, stream, timeout, verify, cert, proxies)\u001b[0m\n\u001b[0;32m    485\u001b[0m \u001b[39mtry\u001b[39;00m:\n\u001b[1;32m--> 486\u001b[0m     resp \u001b[39m=\u001b[39m conn\u001b[39m.\u001b[39;49murlopen(\n\u001b[0;32m    487\u001b[0m         method\u001b[39m=\u001b[39;49mrequest\u001b[39m.\u001b[39;49mmethod,\n\u001b[0;32m    488\u001b[0m         url\u001b[39m=\u001b[39;49murl,\n\u001b[0;32m    489\u001b[0m         body\u001b[39m=\u001b[39;49mrequest\u001b[39m.\u001b[39;49mbody,\n\u001b[0;32m    490\u001b[0m         headers\u001b[39m=\u001b[39;49mrequest\u001b[39m.\u001b[39;49mheaders,\n\u001b[0;32m    491\u001b[0m         redirect\u001b[39m=\u001b[39;49m\u001b[39mFalse\u001b[39;49;00m,\n\u001b[0;32m    492\u001b[0m         assert_same_host\u001b[39m=\u001b[39;49m\u001b[39mFalse\u001b[39;49;00m,\n\u001b[0;32m    493\u001b[0m         preload_content\u001b[39m=\u001b[39;49m\u001b[39mFalse\u001b[39;49;00m,\n\u001b[0;32m    494\u001b[0m         decode_content\u001b[39m=\u001b[39;49m\u001b[39mFalse\u001b[39;49;00m,\n\u001b[0;32m    495\u001b[0m         retries\u001b[39m=\u001b[39;49m\u001b[39mself\u001b[39;49m\u001b[39m.\u001b[39;49mmax_retries,\n\u001b[0;32m    496\u001b[0m         timeout\u001b[39m=\u001b[39;49mtimeout,\n\u001b[0;32m    497\u001b[0m         chunked\u001b[39m=\u001b[39;49mchunked,\n\u001b[0;32m    498\u001b[0m     )\n\u001b[0;32m    500\u001b[0m \u001b[39mexcept\u001b[39;00m (ProtocolError, \u001b[39mOSError\u001b[39;00m) \u001b[39mas\u001b[39;00m err:\n",
      "File \u001b[1;32mc:\\Users\\vbarbier\\AppData\\Local\\Programs\\Python\\Python311\\Lib\\site-packages\\urllib3\\connectionpool.py:798\u001b[0m, in \u001b[0;36mHTTPConnectionPool.urlopen\u001b[1;34m(self, method, url, body, headers, retries, redirect, assert_same_host, timeout, pool_timeout, release_conn, chunked, body_pos, **response_kw)\u001b[0m\n\u001b[0;32m    796\u001b[0m     e \u001b[39m=\u001b[39m ProtocolError(\u001b[39m\"\u001b[39m\u001b[39mConnection aborted.\u001b[39m\u001b[39m\"\u001b[39m, e)\n\u001b[1;32m--> 798\u001b[0m retries \u001b[39m=\u001b[39m retries\u001b[39m.\u001b[39;49mincrement(\n\u001b[0;32m    799\u001b[0m     method, url, error\u001b[39m=\u001b[39;49me, _pool\u001b[39m=\u001b[39;49m\u001b[39mself\u001b[39;49m, _stacktrace\u001b[39m=\u001b[39;49msys\u001b[39m.\u001b[39;49mexc_info()[\u001b[39m2\u001b[39;49m]\n\u001b[0;32m    800\u001b[0m )\n\u001b[0;32m    801\u001b[0m retries\u001b[39m.\u001b[39msleep()\n",
      "File \u001b[1;32mc:\\Users\\vbarbier\\AppData\\Local\\Programs\\Python\\Python311\\Lib\\site-packages\\urllib3\\util\\retry.py:592\u001b[0m, in \u001b[0;36mRetry.increment\u001b[1;34m(self, method, url, response, error, _pool, _stacktrace)\u001b[0m\n\u001b[0;32m    591\u001b[0m \u001b[39mif\u001b[39;00m new_retry\u001b[39m.\u001b[39mis_exhausted():\n\u001b[1;32m--> 592\u001b[0m     \u001b[39mraise\u001b[39;00m MaxRetryError(_pool, url, error \u001b[39mor\u001b[39;00m ResponseError(cause))\n\u001b[0;32m    594\u001b[0m log\u001b[39m.\u001b[39mdebug(\u001b[39m\"\u001b[39m\u001b[39mIncremented Retry for (url=\u001b[39m\u001b[39m'\u001b[39m\u001b[39m%s\u001b[39;00m\u001b[39m'\u001b[39m\u001b[39m): \u001b[39m\u001b[39m%r\u001b[39;00m\u001b[39m\"\u001b[39m, url, new_retry)\n",
      "\u001b[1;31mMaxRetryError\u001b[0m: HTTPConnectionPool(host='localhost', port=5004): Max retries exceeded with url: /match (Caused by NewConnectionError('<urllib3.connection.HTTPConnection object at 0x0000022BB0182110>: Failed to establish a new connection: [WinError 10061] No connection could be made because the target machine actively refused it'))",
      "\nDuring handling of the above exception, another exception occurred:\n",
      "\u001b[1;31mConnectionError\u001b[0m                           Traceback (most recent call last)",
      "\u001b[1;32mc:\\Users\\vbarbier\\MESR\\affiliation-matcher\\notebooks\\paysage_analyse_match.ipynb Cell 7\u001b[0m line \u001b[0;36m4\n\u001b[0;32m      <a href='vscode-notebook-cell:/c%3A/Users/vbarbier/MESR/affiliation-matcher/notebooks/paysage_analyse_match.ipynb#X10sZmlsZQ%3D%3D?line=1'>2</a>\u001b[0m display(test)\n\u001b[0;32m      <a href='vscode-notebook-cell:/c%3A/Users/vbarbier/MESR/affiliation-matcher/notebooks/paysage_analyse_match.ipynb#X10sZmlsZQ%3D%3D?line=2'>3</a>\u001b[0m \u001b[39mprint\u001b[39m(test[COL_AFFILIATION_STR])\n\u001b[1;32m----> <a href='vscode-notebook-cell:/c%3A/Users/vbarbier/MESR/affiliation-matcher/notebooks/paysage_analyse_match.ipynb#X10sZmlsZQ%3D%3D?line=3'>4</a>\u001b[0m affiliation_get_matches(test[COL_AFFILIATION_STR], local\u001b[39m=\u001b[39;49m\u001b[39mTrue\u001b[39;49;00m)\n",
      "\u001b[1;32mc:\\Users\\vbarbier\\MESR\\affiliation-matcher\\notebooks\\paysage_analyse_match.ipynb Cell 7\u001b[0m line \u001b[0;36m1\n\u001b[0;32m      <a href='vscode-notebook-cell:/c%3A/Users/vbarbier/MESR/affiliation-matcher/notebooks/paysage_analyse_match.ipynb#X10sZmlsZQ%3D%3D?line=7'>8</a>\u001b[0m   body[\u001b[39m\"\u001b[39m\u001b[39myear\u001b[39m\u001b[39m\"\u001b[39m] \u001b[39m=\u001b[39m year\n\u001b[0;32m     <a href='vscode-notebook-cell:/c%3A/Users/vbarbier/MESR/affiliation-matcher/notebooks/paysage_analyse_match.ipynb#X10sZmlsZQ%3D%3D?line=9'>10</a>\u001b[0m url \u001b[39m=\u001b[39m AFFILIATION_MATCHER_API_LOCAL \u001b[39mif\u001b[39;00m local \u001b[39melse\u001b[39;00m AFFILIATION_MATCHER_API\n\u001b[1;32m---> <a href='vscode-notebook-cell:/c%3A/Users/vbarbier/MESR/affiliation-matcher/notebooks/paysage_analyse_match.ipynb#X10sZmlsZQ%3D%3D?line=12'>13</a>\u001b[0m res\u001b[39m=\u001b[39mrequests\u001b[39m.\u001b[39;49mpost(url\u001b[39m=\u001b[39;49murl, json\u001b[39m=\u001b[39;49mbody)\n\u001b[0;32m     <a href='vscode-notebook-cell:/c%3A/Users/vbarbier/MESR/affiliation-matcher/notebooks/paysage_analyse_match.ipynb#X10sZmlsZQ%3D%3D?line=14'>15</a>\u001b[0m \u001b[39mif\u001b[39;00m res\u001b[39m.\u001b[39mstatus_code \u001b[39m==\u001b[39m \u001b[39m202\u001b[39m:\n\u001b[0;32m     <a href='vscode-notebook-cell:/c%3A/Users/vbarbier/MESR/affiliation-matcher/notebooks/paysage_analyse_match.ipynb#X10sZmlsZQ%3D%3D?line=15'>16</a>\u001b[0m   \u001b[39mreturn\u001b[39;00m res\u001b[39m.\u001b[39mjson()\n",
      "File \u001b[1;32mc:\\Users\\vbarbier\\AppData\\Local\\Programs\\Python\\Python311\\Lib\\site-packages\\requests\\api.py:115\u001b[0m, in \u001b[0;36mpost\u001b[1;34m(url, data, json, **kwargs)\u001b[0m\n\u001b[0;32m    103\u001b[0m \u001b[39mdef\u001b[39;00m \u001b[39mpost\u001b[39m(url, data\u001b[39m=\u001b[39m\u001b[39mNone\u001b[39;00m, json\u001b[39m=\u001b[39m\u001b[39mNone\u001b[39;00m, \u001b[39m*\u001b[39m\u001b[39m*\u001b[39mkwargs):\n\u001b[0;32m    104\u001b[0m \u001b[39m    \u001b[39m\u001b[39mr\u001b[39m\u001b[39m\"\"\"Sends a POST request.\u001b[39;00m\n\u001b[0;32m    105\u001b[0m \n\u001b[0;32m    106\u001b[0m \u001b[39m    :param url: URL for the new :class:`Request` object.\u001b[39;00m\n\u001b[1;32m   (...)\u001b[0m\n\u001b[0;32m    112\u001b[0m \u001b[39m    :rtype: requests.Response\u001b[39;00m\n\u001b[0;32m    113\u001b[0m \u001b[39m    \"\"\"\u001b[39;00m\n\u001b[1;32m--> 115\u001b[0m     \u001b[39mreturn\u001b[39;00m request(\u001b[39m\"\u001b[39;49m\u001b[39mpost\u001b[39;49m\u001b[39m\"\u001b[39;49m, url, data\u001b[39m=\u001b[39;49mdata, json\u001b[39m=\u001b[39;49mjson, \u001b[39m*\u001b[39;49m\u001b[39m*\u001b[39;49mkwargs)\n",
      "File \u001b[1;32mc:\\Users\\vbarbier\\AppData\\Local\\Programs\\Python\\Python311\\Lib\\site-packages\\requests\\api.py:59\u001b[0m, in \u001b[0;36mrequest\u001b[1;34m(method, url, **kwargs)\u001b[0m\n\u001b[0;32m     55\u001b[0m \u001b[39m# By using the 'with' statement we are sure the session is closed, thus we\u001b[39;00m\n\u001b[0;32m     56\u001b[0m \u001b[39m# avoid leaving sockets open which can trigger a ResourceWarning in some\u001b[39;00m\n\u001b[0;32m     57\u001b[0m \u001b[39m# cases, and look like a memory leak in others.\u001b[39;00m\n\u001b[0;32m     58\u001b[0m \u001b[39mwith\u001b[39;00m sessions\u001b[39m.\u001b[39mSession() \u001b[39mas\u001b[39;00m session:\n\u001b[1;32m---> 59\u001b[0m     \u001b[39mreturn\u001b[39;00m session\u001b[39m.\u001b[39;49mrequest(method\u001b[39m=\u001b[39;49mmethod, url\u001b[39m=\u001b[39;49murl, \u001b[39m*\u001b[39;49m\u001b[39m*\u001b[39;49mkwargs)\n",
      "File \u001b[1;32mc:\\Users\\vbarbier\\AppData\\Local\\Programs\\Python\\Python311\\Lib\\site-packages\\requests\\sessions.py:589\u001b[0m, in \u001b[0;36mSession.request\u001b[1;34m(self, method, url, params, data, headers, cookies, files, auth, timeout, allow_redirects, proxies, hooks, stream, verify, cert, json)\u001b[0m\n\u001b[0;32m    584\u001b[0m send_kwargs \u001b[39m=\u001b[39m {\n\u001b[0;32m    585\u001b[0m     \u001b[39m\"\u001b[39m\u001b[39mtimeout\u001b[39m\u001b[39m\"\u001b[39m: timeout,\n\u001b[0;32m    586\u001b[0m     \u001b[39m\"\u001b[39m\u001b[39mallow_redirects\u001b[39m\u001b[39m\"\u001b[39m: allow_redirects,\n\u001b[0;32m    587\u001b[0m }\n\u001b[0;32m    588\u001b[0m send_kwargs\u001b[39m.\u001b[39mupdate(settings)\n\u001b[1;32m--> 589\u001b[0m resp \u001b[39m=\u001b[39m \u001b[39mself\u001b[39;49m\u001b[39m.\u001b[39;49msend(prep, \u001b[39m*\u001b[39;49m\u001b[39m*\u001b[39;49msend_kwargs)\n\u001b[0;32m    591\u001b[0m \u001b[39mreturn\u001b[39;00m resp\n",
      "File \u001b[1;32mc:\\Users\\vbarbier\\AppData\\Local\\Programs\\Python\\Python311\\Lib\\site-packages\\requests\\sessions.py:703\u001b[0m, in \u001b[0;36mSession.send\u001b[1;34m(self, request, **kwargs)\u001b[0m\n\u001b[0;32m    700\u001b[0m start \u001b[39m=\u001b[39m preferred_clock()\n\u001b[0;32m    702\u001b[0m \u001b[39m# Send the request\u001b[39;00m\n\u001b[1;32m--> 703\u001b[0m r \u001b[39m=\u001b[39m adapter\u001b[39m.\u001b[39;49msend(request, \u001b[39m*\u001b[39;49m\u001b[39m*\u001b[39;49mkwargs)\n\u001b[0;32m    705\u001b[0m \u001b[39m# Total elapsed time of the request (approximately)\u001b[39;00m\n\u001b[0;32m    706\u001b[0m elapsed \u001b[39m=\u001b[39m preferred_clock() \u001b[39m-\u001b[39m start\n",
      "File \u001b[1;32mc:\\Users\\vbarbier\\AppData\\Local\\Programs\\Python\\Python311\\Lib\\site-packages\\requests\\adapters.py:519\u001b[0m, in \u001b[0;36mHTTPAdapter.send\u001b[1;34m(self, request, stream, timeout, verify, cert, proxies)\u001b[0m\n\u001b[0;32m    515\u001b[0m     \u001b[39mif\u001b[39;00m \u001b[39misinstance\u001b[39m(e\u001b[39m.\u001b[39mreason, _SSLError):\n\u001b[0;32m    516\u001b[0m         \u001b[39m# This branch is for urllib3 v1.22 and later.\u001b[39;00m\n\u001b[0;32m    517\u001b[0m         \u001b[39mraise\u001b[39;00m SSLError(e, request\u001b[39m=\u001b[39mrequest)\n\u001b[1;32m--> 519\u001b[0m     \u001b[39mraise\u001b[39;00m \u001b[39mConnectionError\u001b[39;00m(e, request\u001b[39m=\u001b[39mrequest)\n\u001b[0;32m    521\u001b[0m \u001b[39mexcept\u001b[39;00m ClosedPoolError \u001b[39mas\u001b[39;00m e:\n\u001b[0;32m    522\u001b[0m     \u001b[39mraise\u001b[39;00m \u001b[39mConnectionError\u001b[39;00m(e, request\u001b[39m=\u001b[39mrequest)\n",
      "\u001b[1;31mConnectionError\u001b[0m: HTTPConnectionPool(host='localhost', port=5004): Max retries exceeded with url: /match (Caused by NewConnectionError('<urllib3.connection.HTTPConnection object at 0x0000022BB0182110>: Failed to establish a new connection: [WinError 10061] No connection could be made because the target machine actively refused it'))"
     ]
    }
   ],
   "source": [
    "test = df_diff_match.iloc[0]\n",
    "display(test)\n",
    "print(test[COL_AFFILIATION_STR])\n",
    "affiliation_get_matches(test[COL_AFFILIATION_STR], local=True)"
   ]
  },
  {
   "cell_type": "markdown",
   "metadata": {},
   "source": [
    "NO MATCH"
   ]
  },
  {
   "cell_type": "code",
   "execution_count": null,
   "metadata": {},
   "outputs": [
    {
     "data": {
      "text/plain": [
       "2181"
      ]
     },
     "execution_count": 43,
     "metadata": {},
     "output_type": "execute_result"
    }
   ],
   "source": [
    "df_no_match = df[df[COL_AFFILIATION_IS_MATCH] == \"MATCH.ID_NO_MATCH\"]\n",
    "len(df_no_match)"
   ]
  },
  {
   "cell_type": "code",
   "execution_count": null,
   "metadata": {},
   "outputs": [
    {
     "data": {
      "text/plain": [
       "identifiant_rnsr                                                           None\n",
       "identifiant_interne                                                       5zvLV\n",
       "etat                                                                       True\n",
       "date_fermeture                                                              NaN\n",
       "sigle                                                                      None\n",
       "uo_lib                                          Fondation partenariale Polytech\n",
       "uo_lib_officiel                                 Fondation partenariale Polytech\n",
       "adresse_uai                                          58 boulevard Charles Livon\n",
       "lieu_dit_uai                                                               None\n",
       "boite_postale_uai                                                          None\n",
       "code_postal_uai                                                           13007\n",
       "localite_acheminement_uai                                             Marseille\n",
       "pays_etranger_acheminement                                               France\n",
       "affiliation_string            Fondation partenariale Polytech, 58 boulevard ...\n",
       "affiliation_string_off                                                     None\n",
       "affiliation_match                                                            []\n",
       "affiliation_match_off                                                        []\n",
       "affiliation_is_match                                          MATCH.ID_NO_MATCH\n",
       "affiliation_is_match_off                                                   None\n",
       "Name: 68, dtype: object"
      ]
     },
     "metadata": {},
     "output_type": "display_data"
    },
    {
     "name": "stdout",
     "output_type": "stream",
     "text": [
      "Fondation partenariale Polytech, 58 boulevard Charles Livon, 13007, Marseille, France\n"
     ]
    },
    {
     "data": {
      "text/plain": [
       "{'enriched_results': [],\n",
       " 'index_date': '20240409',\n",
       " 'other_ids': [],\n",
       " 'results': [],\n",
       " 'version': '0.1.28'}"
      ]
     },
     "execution_count": 47,
     "metadata": {},
     "output_type": "execute_result"
    }
   ],
   "source": [
    "test = df_no_match.iloc[13]\n",
    "display(test)\n",
    "print(test[COL_AFFILIATION_STR])\n",
    "affiliation_get_matches(test[COL_AFFILIATION_STR], local=True)"
   ]
  },
  {
   "cell_type": "markdown",
   "metadata": {},
   "source": [
    "TEST"
   ]
  },
  {
   "cell_type": "code",
   "execution_count": null,
   "metadata": {},
   "outputs": [
    {
     "data": {
      "text/plain": [
       "{'took': 80,\n",
       " 'timed_out': False,\n",
       " '_shards': {'total': 1, 'successful': 1, 'skipped': 0, 'failed': 0},\n",
       " 'hits': {'total': {'value': 7, 'relation': 'eq'},\n",
       "  'max_score': 0.39229372,\n",
       "  'hits': [{'_index': 'matcher-20240409134004_paysage_name_txt',\n",
       "    '_type': '_doc',\n",
       "    '_id': '7eUXw44Bz0HHf6WJRuSe',\n",
       "    '_score': 0.39229372,\n",
       "    '_source': {'paysages': ['kvciR'],\n",
       "     'country_alpha2': ['fr'],\n",
       "     'query': {'match': {'content': {'query': 'Université Paris-Sorbonne',\n",
       "        'analyzer': 'heavy_fr',\n",
       "        'minimum_should_match': '-10%'}}}},\n",
       "    'fields': {'_percolator_document_slot': [0]}},\n",
       "   {'_index': 'matcher-20240409134004_paysage_name_txt',\n",
       "    '_type': '_doc',\n",
       "    '_id': '7uUXw44Bz0HHf6WJRuSe',\n",
       "    '_score': 0.39229372,\n",
       "    '_source': {'paysages': ['kvciR'],\n",
       "     'country_alpha2': ['fr'],\n",
       "     'query': {'match': {'content': {'query': 'Paris-Sorbonne University',\n",
       "        'analyzer': 'heavy_fr',\n",
       "        'minimum_should_match': '-10%'}}}},\n",
       "    'fields': {'_percolator_document_slot': [0]}},\n",
       "   {'_index': 'matcher-20240409134004_paysage_name_txt',\n",
       "    '_type': '_doc',\n",
       "    '_id': '2uUXw44Bz0HHf6WJQdUB',\n",
       "    '_score': 0.39229372,\n",
       "    '_source': {'paysages': ['dkZ2k'],\n",
       "     'country_alpha2': ['fr'],\n",
       "     'query': {'match': {'content': {'query': 'Alliance Sorbonne Université',\n",
       "        'analyzer': 'heavy_fr',\n",
       "        'minimum_should_match': '-10%'}}}},\n",
       "    'fields': {'_percolator_document_slot': [0]}},\n",
       "   {'_index': 'matcher-20240409134004_paysage_name_txt',\n",
       "    '_type': '_doc',\n",
       "    '_id': 'zOUXw44Bz0HHf6WJS_HZ',\n",
       "    '_score': 0.26152915,\n",
       "    '_source': {'paysages': ['bxPQe'],\n",
       "     'country_alpha2': ['fr'],\n",
       "     'query': {'match': {'content': {'query': 'Sorbonne University',\n",
       "        'analyzer': 'heavy_fr',\n",
       "        'minimum_should_match': '-10%'}}}},\n",
       "    'fields': {'_percolator_document_slot': [0]}},\n",
       "   {'_index': 'matcher-20240409134004_paysage_name_txt',\n",
       "    '_type': '_doc',\n",
       "    '_id': 'zuUXw44Bz0HHf6WJS_HZ',\n",
       "    '_score': 0.26152915,\n",
       "    '_source': {'paysages': ['bxPQe'],\n",
       "     'country_alpha2': ['fr'],\n",
       "     'query': {'match': {'content': {'query': 'Sorbonne Université',\n",
       "        'analyzer': 'heavy_fr',\n",
       "        'minimum_should_match': '-10%'}}}},\n",
       "    'fields': {'_percolator_document_slot': [0]}},\n",
       "   {'_index': 'matcher-20240409134004_paysage_name_txt',\n",
       "    '_type': '_doc',\n",
       "    '_id': '--UXw44Bz0HHf6WJS_HZ',\n",
       "    '_score': 0.26152915,\n",
       "    '_source': {'paysages': ['kyS9n'],\n",
       "     'country_alpha2': ['fr'],\n",
       "     'query': {'match': {'content': {'query': 'Université Paris',\n",
       "        'analyzer': 'heavy_fr',\n",
       "        'minimum_should_match': '-10%'}}}},\n",
       "    'fields': {'_percolator_document_slot': [0]}},\n",
       "   {'_index': 'matcher-20240409134004_paysage_name_txt',\n",
       "    '_type': '_doc',\n",
       "    '_id': 'muUXw44Bz0HHf6WJSewZ',\n",
       "    '_score': 0.26152915,\n",
       "    '_source': {'paysages': ['Y4jHW'],\n",
       "     'country_alpha2': ['fr'],\n",
       "     'query': {'match': {'content': {'query': 'Sorbonne Alliance',\n",
       "        'analyzer': 'heavy_fr',\n",
       "        'minimum_should_match': '-10%'}}}},\n",
       "    'fields': {'_percolator_document_slot': [0]}}]}}"
      ]
     },
     "execution_count": 46,
     "metadata": {},
     "output_type": "execute_result"
    }
   ],
   "source": [
    "indice = \"matcher-20240409134004_paysage_name_txt\"\n",
    "query = \"Alliance Sorbonne Université, 75006, PARIS, France\"\n",
    "elastic_percolate(indice, query)"
   ]
  }
 ],
 "metadata": {
  "kernelspec": {
   "display_name": "Python 3",
   "language": "python",
   "name": "python3"
  },
  "language_info": {
   "codemirror_mode": {
    "name": "ipython",
    "version": 3
   },
   "file_extension": ".py",
   "mimetype": "text/x-python",
   "name": "python",
   "nbconvert_exporter": "python",
   "pygments_lexer": "ipython3",
   "version": "3.11.5"
  },
  "orig_nbformat": 4
 },
 "nbformat": 4,
 "nbformat_minor": 2
}
