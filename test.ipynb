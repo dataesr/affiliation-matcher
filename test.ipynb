{
 "cells": [
  {
   "cell_type": "code",
   "execution_count": 2,
   "metadata": {},
   "outputs": [],
   "source": [
    "import requests\n",
    "import datetime\n",
    "import sys"
   ]
  },
  {
   "cell_type": "code",
   "execution_count": 3,
   "metadata": {},
   "outputs": [],
   "source": [
    "url=\"6f985h5dpk.lb.c1.gra7.k8s.ovh.net\"\n",
    "url_task = url + sys.argv[1]"
   ]
  },
  {
   "cell_type": "code",
   "execution_count": 8,
   "metadata": {},
   "outputs": [],
   "source": [
    "start = datetime.datetime(2013,1,1)\n",
    "end = datetime.datetime.today()\n",
    "nb_days = (end - start).days"
   ]
  },
  {
   "cell_type": "code",
   "execution_count": 18,
   "metadata": {},
   "outputs": [],
   "source": [
    "for delta in range(1, nb_days + 1):\n",
    "    current_date = end - datetime.timedelta(days = delta)\n",
    "    current_date_str = current_date.strftime(\"%Y/%m/%d\")\n",
    "    r = requests.post(url_task, json={'dt':current_date_str})\n"
   ]
  },
  {
   "cell_type": "code",
   "execution_count": null,
   "metadata": {},
   "outputs": [],
   "source": [
    "ovh\n",
    "kubernetes crawler, pubmed\n",
    "deploiement curie\n",
    "presentation "
   ]
  }
 ],
 "metadata": {
  "kernelspec": {
   "display_name": "Python 3",
   "language": "python",
   "name": "python3"
  },
  "language_info": {
   "codemirror_mode": {
    "name": "ipython",
    "version": 3
   },
   "file_extension": ".py",
   "mimetype": "text/x-python",
   "name": "python",
   "nbconvert_exporter": "python",
   "pygments_lexer": "ipython3",
   "version": "3.6.5"
  }
 },
 "nbformat": 4,
 "nbformat_minor": 2
}
